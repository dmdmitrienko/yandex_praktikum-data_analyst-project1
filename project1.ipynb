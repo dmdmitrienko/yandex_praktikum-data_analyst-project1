{
 "cells": [
  {
   "cell_type": "markdown",
   "metadata": {},
   "source": [
    "<font color='blue'> Привет!)Ты проделал большую работу. Молодец, что пишешь много комментариев, это очень помогает понимать твои выводы.  Далее в файле ты можешь найти мои комменатрии, выделенные синим. Пожайлуста, постарайся учесть их в дальнейших проектах.</font>"
   ]
  },
  {
   "cell_type": "markdown",
   "metadata": {},
   "source": [
    "## Исследование надёжности заёмщиков\n",
    "\n",
    "Заказчик — кредитный отдел банка. Нужно разобраться, влияет ли семейное положение и количество детей клиента на факт погашения кредита в срок. Входные данные от банка — статистика о платёжеспособности клиентов.\n",
    "\n",
    "Результаты исследования будут учтены при построении модели **кредитного скоринга** — специальной системы, которая оценивает способность потенциального заёмщика вернуть кредит банку."
   ]
  },
  {
   "cell_type": "markdown",
   "metadata": {},
   "source": [
    "### Шаг 1. Откройте файл с данными и изучите общую информацию. "
   ]
  },
  {
   "cell_type": "code",
   "execution_count": 51,
   "metadata": {},
   "outputs": [
    {
     "name": "stdout",
     "output_type": "stream",
     "text": [
      "Анализируем общую информацию по таблице:\n",
      "<class 'pandas.core.frame.DataFrame'>\n",
      "RangeIndex: 21525 entries, 0 to 21524\n",
      "Data columns (total 12 columns):\n",
      "children            21525 non-null int64\n",
      "days_employed       19351 non-null float64\n",
      "dob_years           21525 non-null int64\n",
      "education           21525 non-null object\n",
      "education_id        21525 non-null int64\n",
      "family_status       21525 non-null object\n",
      "family_status_id    21525 non-null int64\n",
      "gender              21525 non-null object\n",
      "income_type         21525 non-null object\n",
      "debt                21525 non-null int64\n",
      "total_income        19351 non-null float64\n",
      "purpose             21525 non-null object\n",
      "dtypes: float64(2), int64(5), object(5)\n",
      "memory usage: 2.0+ MB\n",
      "None\n",
      "\n",
      "Визуально анализируем прочитанную таблицу:\n",
      "   children  days_employed  dob_years education  education_id  \\\n",
      "0         1   -8437.673028         42    высшее             0   \n",
      "1         1   -4024.803754         36   среднее             1   \n",
      "2         0   -5623.422610         33   Среднее             1   \n",
      "3         3   -4124.747207         32   среднее             1   \n",
      "4         0  340266.072047         53   среднее             1   \n",
      "\n",
      "      family_status  family_status_id gender income_type  debt   total_income  \\\n",
      "0   женат / замужем                 0      F   сотрудник     0  253875.639453   \n",
      "1   женат / замужем                 0      F   сотрудник     0  112080.014102   \n",
      "2   женат / замужем                 0      M   сотрудник     0  145885.952297   \n",
      "3   женат / замужем                 0      M   сотрудник     0  267628.550329   \n",
      "4  гражданский брак                 1      F   пенсионер     0  158616.077870   \n",
      "\n",
      "                      purpose  \n",
      "0               покупка жилья  \n",
      "1     приобретение автомобиля  \n",
      "2               покупка жилья  \n",
      "3  дополнительное образование  \n",
      "4             сыграть свадьбу  \n",
      "\n",
      "Ищем логические несоответствия в данных:\n",
      "\n",
      "Возраст клиента меньше 18:\n",
      "0    101\n",
      "Name: dob_years, dtype: int64\n",
      "\n",
      "Количество детей больше 10:\n",
      "20    76\n",
      "Name: children, dtype: int64\n",
      "\n",
      "Отрицательная зарплата:\n",
      "Series([], Name: total_income, dtype: int64)\n"
     ]
    }
   ],
   "source": [
    "import pandas as pd\n",
    "import math\n",
    "from datetime import datetime\n",
    "\n",
    "df = pd.read_csv('/datasets/data.csv')\n",
    "\n",
    "print ('Анализируем общую информацию по таблице:')\n",
    "print (df.info())\n",
    "print ('\\nВизуально анализируем прочитанную таблицу:')\n",
    "print (df.head())\n",
    "print ('\\nИщем логические несоответствия в данных:')\n",
    "print ('\\nВозраст клиента меньше 18:')\n",
    "print (df[df['dob_years'] < 18]['dob_years'].value_counts())\n",
    "print ('\\nКоличество детей больше 10:')\n",
    "print (df[df['children'] > 10]['children'].value_counts())\n",
    "print ('\\nОтрицательная зарплата:')\n",
    "print (df[df['total_income'] < 0.0]['total_income'].value_counts())"
   ]
  },
  {
   "cell_type": "markdown",
   "metadata": {},
   "source": [
    "### Вывод"
   ]
  },
  {
   "cell_type": "markdown",
   "metadata": {},
   "source": [
    "#### В таблице 21 525 записей.\n",
    "\n",
    "#### Обнаруженные проблемы:\n",
    "1. Есть пропуски в столбцах \"days_employed\" и \"total_income\".\n",
    "2. Не все типы данных в столбцах соответствуют истине:\n",
    "   Столбец \"days_employed\" имеет тип float64, хотя, должен быть int64 - в стаже работы не учитываются \"половинки\" и \"четвертинки\" дней. Также в этом  столбце не может быть отрицательных значений.\n",
    "3. Не все данные в столбцах имеют одинаковый вид:\n",
    "   Столбец \"education\" имеет запись об образовании \"среднее\" и \"Среднее\", что не одно и то же при поиске уникальных значений.\n",
    "4. В столбцах типа \"float\", в которых хранится количество денег, должно быть округление до сотен, т.к. денюжки считаются до копеек.\n",
    "5. Столбцы \"education\", \"family_status\" и \"income_type\" являются строковыми и содержат однотиповые значения - такой подход увеличивает время обработки данных, поэтому записи в этих столбцах нужно преобразовать в словари, заменив строковое значение на ID записи словаря.\n",
    "6. В столбце \"dob_years\" (возраст клиента) присутстуют нули - насколько знаю, младенцам кредиты не дают, нужно исправить данные.\n",
    "7. В столбце \"children\" присутствует значение \"20\" аж у 76 персон - вероятно, ошибка. Слишком много детей на одного человека."
   ]
  },
  {
   "cell_type": "markdown",
   "metadata": {},
   "source": [
    "<font color='blue'> Отличные, очень подробные выводы.</font>"
   ]
  },
  {
   "cell_type": "markdown",
   "metadata": {},
   "source": [
    "### Шаг 2. Предобработка данных"
   ]
  },
  {
   "cell_type": "markdown",
   "metadata": {},
   "source": [
    "### Обработка пропусков"
   ]
  },
  {
   "cell_type": "code",
   "execution_count": 56,
   "metadata": {},
   "outputs": [
    {
     "name": "stdout",
     "output_type": "stream",
     "text": [
      "Проверяем количество пропусков для стажа работы:\n",
      "0\n",
      "\n",
      "Проверяем количество пропусков для ежемесячного дохода:\n",
      "0\n",
      "\n",
      "Проверяем количество записей с нулями в годах\n",
      "0\n",
      "\n",
      "Ищем визуально зависимости пропусков от данных:\n",
      "Empty DataFrame\n",
      "Columns: [children, days_employed, dob_years, education, education_id, family_status, family_status_id, gender, income_type, debt, total_income, purpose, age_type]\n",
      "Index: []\n",
      "\n",
      "Список категорий с пропущенными значениями возраста:\n",
      "Series([], Name: income_type, dtype: int64)\n",
      "\n",
      "Ищем средние значения возраста для каждой категории:\n",
      "сотрудник: 39\n",
      "компаньон: 39\n",
      "пенсионер: 60\n",
      "госслужащий: 40\n",
      "0\n",
      "\n",
      "Убираем дубли в уровне образование - по ним будем считать кол-во отработанных дней\n",
      "\n",
      "Проверяем количество пропусков в уровне образования:\n",
      "среднее                15233\n",
      "высшее                  5260\n",
      "неоконченное высшее      744\n",
      "начальное                282\n",
      "ученая степень             6\n",
      "Name: education, dtype: int64\n",
      "\n",
      "Проверяем количество пропусков в столбце \"пол\":\n",
      "F    14237\n",
      "M     7288\n",
      "Name: gender, dtype: int64\n",
      "\n",
      "Заменяем значение \"XNA\" столбце \"пол\" на \"F\":\n",
      "\n",
      "Обрабатываем последнюю незаполненную автоматически запись\n",
      "\n",
      "Проверяем наличие пропусков в таблице:\n",
      "<class 'pandas.core.frame.DataFrame'>\n",
      "RangeIndex: 21525 entries, 0 to 21524\n",
      "Data columns (total 13 columns):\n",
      "children            21525 non-null int64\n",
      "days_employed       21525 non-null float64\n",
      "dob_years           21525 non-null int64\n",
      "education           21525 non-null object\n",
      "education_id        21525 non-null int64\n",
      "family_status       21525 non-null object\n",
      "family_status_id    21525 non-null int64\n",
      "gender              21525 non-null object\n",
      "income_type         21525 non-null object\n",
      "debt                21525 non-null int64\n",
      "total_income        21525 non-null float64\n",
      "purpose             21525 non-null object\n",
      "age_type            21525 non-null object\n",
      "dtypes: float64(2), int64(5), object(6)\n",
      "memory usage: 2.1+ MB\n",
      "None\n",
      "\n",
      "Ищем тех, у кого слишком много или слишком мало детей\n",
      " 20    76\n",
      "-1     47\n",
      "Name: children, dtype: int64\n",
      "\n",
      "Меняем неверные значения:\n"
     ]
    }
   ],
   "source": [
    "print ('Проверяем количество пропусков для стажа работы:')\n",
    "print (df['days_employed'].isna().sum())\n",
    "\n",
    "print ('\\nПроверяем количество пропусков для ежемесячного дохода:')\n",
    "print (df['total_income'].isna().sum())\n",
    "\n",
    "print ('\\nПроверяем количество записей с нулями в годах')\n",
    "print (df[df['dob_years'] == 0]['dob_years'].count())\n",
    "\n",
    "print ('\\nИщем визуально зависимости пропусков от данных:')\n",
    "print (df[df['days_employed'].isna() | df['total_income'].isna()].head())\n",
    "\n",
    "print ('\\nСписок категорий с пропущенными значениями возраста:')\n",
    "print (df[df['dob_years'] == 0]['income_type'].value_counts())\n",
    "\n",
    "print ('\\nИщем средние значения возраста для каждой категории:')\n",
    "employee_age  = df[df['income_type'] == 'сотрудник']['dob_years'].median().astype(int)\n",
    "companion_age = df[df['income_type'] == 'компаньон']['dob_years'].median().astype(int)\n",
    "oldermen_age  = df[df['income_type'] == 'пенсионер']['dob_years'].median().astype(int)\n",
    "employee_gov_age = df[df['income_type'] == 'госслужащий']['dob_years'].median().astype(int)\n",
    "print (f'сотрудник: {employee_age}\\nкомпаньон: {companion_age}\\nпенсионер: {oldermen_age}\\nгосслужащий: {employee_gov_age}')\n",
    "\n",
    "df.loc[(df['income_type'] == 'сотрудник') & (df['dob_years'] == 0), 'dob_years'] = employee_age\n",
    "df.loc[(df['income_type'] == 'компаньон') & (df['dob_years'] == 0), 'dob_years'] = companion_age\n",
    "df.loc[(df['income_type'] == 'пенсионер') & (df['dob_years'] == 0), 'dob_years'] = oldermen_age\n",
    "df.loc[(df['income_type'] == 'госслужащий') & (df['dob_years'] == 0), 'dob_years'] = employee_gov_age\n",
    "\n",
    "print (df[df['dob_years'] == 0]['income_type'].count())\n",
    "\n",
    "print (\"\\nУбираем дубли в уровне образование - по ним будем считать кол-во отработанных дней\")\n",
    "df.loc[(df['education'] == 'СРЕДНЕЕ') | (df['education'] == 'Среднее'), 'education'] = 'среднее'\n",
    "df.loc[(df['education'] == 'ВЫСШЕЕ') | (df['education'] == 'Высшее'), 'education'] = 'высшее'\n",
    "df.loc[(df['education'] == 'НЕОКОНЧЕННОЕ ВЫСШЕЕ') | (df['education'] == 'Неоконченное высшее'), 'education'] = 'неоконченное высшее'\n",
    "df.loc[(df['education'] == 'УЧЕНАЯ СТЕПЕНЬ') | (df['education'] == 'Ученая степень'), 'education'] = 'ученая степень'\n",
    "df.loc[(df['education'] == 'НАЧАЛЬНОЕ') | (df['education'] == 'Начальное'), 'education'] = 'начальное'\n",
    "\n",
    "def get_age_type(age):\n",
    "    \"\"\"Разбиваем всех заемщиков на блоки по возрасту:\"\"\"\n",
    "    if age < 30:\n",
    "        return 'молодежь'\n",
    "    if age < 50:\n",
    "        return 'работяги'\n",
    "    return 'пенсионеры'\n",
    "\n",
    "def fill_total_income(df, income_type_list, age_type_list):\n",
    "    \"\"\"Заполняем пропущенные значения в ЗП, разбиваем по категориям работы и возрасту\"\"\"\n",
    "    for income_type in income_type_list:\n",
    "        for age_type in age_type_list:\n",
    "            \n",
    "            median = df.loc[\n",
    "                (df['total_income'].notna()) \n",
    "                & (df['total_income'] > 0.0) \n",
    "                & (df['income_type'] == income_type) \n",
    "                & (df['age_type'] == age_type)\n",
    "            ]['total_income'].median()\n",
    "            \n",
    "            if not math.isnan(median):\n",
    "                df.loc[\n",
    "                    (\n",
    "                        (df['total_income'].isna() \n",
    "                         | (df['total_income'] == 0.0) \n",
    "                         | (df['total_income'] < 0.0))\n",
    "                    ) \n",
    "                    & (df['income_type'] == income_type) \n",
    "                    & (df['age_type'] == age_type), \n",
    "                    'total_income'\n",
    "                ] = median\n",
    "    return df\n",
    "\n",
    "def fill_days_employed(df, education_type_list, age_type_list):\n",
    "    \"\"\"Заполняем пропущенные значения в стаже работы, разбиваем по образованию и возрасту\"\"\"\n",
    "    for education_type in education_type_list:\n",
    "        for age_type in age_type_list:\n",
    "            \n",
    "            mean = df.loc[\n",
    "                (df['days_employed'].notna()) \n",
    "                & (df['days_employed'] > 0.0) \n",
    "                & (df['education'] == education_type) \n",
    "                & (df['age_type'] == age_type)\n",
    "            ]['days_employed'].mean()\n",
    "            \n",
    "            if not math.isnan(mean):\n",
    "                df.loc[\n",
    "                    (\n",
    "                        df['days_employed'].isna() \n",
    "                        | (df['days_employed'] == 0.0) \n",
    "                        | (df['days_employed'] < 0.0)\n",
    "                    ) \n",
    "                    & (df['education'] == education_type) \n",
    "                    & (df['age_type'] == age_type), \n",
    "                    'days_employed'\n",
    "                ] = mean\n",
    "            else:\n",
    "                mean = df.loc[\n",
    "                (df['days_employed'].notna()) \n",
    "                & (df['days_employed'] > 0.0) \n",
    "                & (df['age_type'] == age_type)\n",
    "            ]['days_employed'].mean()\n",
    "                if not math.isnan(mean):\n",
    "                    df.loc[\n",
    "                        (\n",
    "                            df['days_employed'].isna() \n",
    "                            | (df['days_employed'] == 0.0) \n",
    "                            | (df['days_employed'] < 0.0)\n",
    "                        ) \n",
    "                        & (df['age_type'] == age_type), \n",
    "                        'days_employed'\n",
    "                    ] = mean\n",
    "    return df\n",
    "\n",
    "df['age_type'] = df['dob_years'].apply(get_age_type)\n",
    "income_type_list    = df['income_type'].value_counts().index.tolist()\n",
    "age_type_list       = df['age_type'].value_counts().index.tolist()\n",
    "education_type_list = df['education'].value_counts().index.tolist()\n",
    "\n",
    "df = fill_total_income(df, income_type_list, age_type_list)\n",
    "df = fill_days_employed(df, education_type_list, age_type_list)\n",
    "\n",
    "print (\"\\nПроверяем количество пропусков в уровне образования:\")\n",
    "print (df['education'].value_counts())\n",
    "\n",
    "print (\"\\nПроверяем количество пропусков в столбце \\\"пол\\\":\")\n",
    "print (df['gender'].value_counts())\n",
    "print (\"\\nЗаменяем значение \\\"XNA\\\" столбце \\\"пол\\\" на \\\"F\\\":\")\n",
    "df.loc[df['gender'] == \"XNA\", 'gender'] = \"F\"\n",
    "\n",
    "print (\"\\nОбрабатываем последнюю незаполненную автоматически запись\")\n",
    "df.loc[(df['income_type'] == 'предприниматель') & (df['age_type'] == 'пенсионеры'), 'total_income'] = df[(df['total_income'].notna()) & (df['income_type'] == 'предприниматель')]['total_income'].median()\n",
    "print (\"\\nПроверяем наличие пропусков в таблице:\")\n",
    "print (df.info())\n",
    "\n",
    "print (\"\\nИщем тех, у кого слишком много или слишком мало детей\")\n",
    "print (df[(df['children'] < 0) | (df['children'] > 10)]['children'].value_counts())\n",
    "\n",
    "print (\"\\nМеняем неверные значения:\")\n",
    "df.loc[df['children'] < 0, 'children'] = 0\n",
    "df.loc[df['children'] == 20, 'children'] = 2\n"
   ]
  },
  {
   "cell_type": "markdown",
   "metadata": {},
   "source": [
    "### Вывод"
   ]
  },
  {
   "cell_type": "markdown",
   "metadata": {},
   "source": [
    "Обнаруженные пропуски были в строках \"dayes_employed\" и \"total_income\" - видимо, не была получена информация о работодателе и/или люди умышленно пропустили этот пункт в заявке на кредит.\n",
    "\n",
    "Чтобы заполнить пропуски данными, которые будут похожи на истину, нужно:\n",
    "1. Разделить всех людей на группы по возрасту, ведь в зависимости от возраста кол-во отработанных дней и зп (у многих) повышается.\n",
    "2. Разделить всех по уровню образования - очень часто уровень образования прямо влияет на должность и на зарплату.\n",
    "3. Разделить всех по типу занятости - в каждой категории уровень зарплаты может варьироваться и медианное значение будет сильно отличаться.\n",
    "\n",
    "Функция \"**get_age**\" разбивает на категории по возрасту всех записи.\n",
    "\n",
    "Функция \"**fill_total_income**\" заполняет пропущенные значения по уровню ЗП. На вход подается DataFrame, список типа занятости и список возрастных категорий. В итоге для каждого типа занятости и для каждого возраста в этом типе находится медианное значение уровня ЗП. Медиана взята потому, что деньги неправльно считать средним - один человек с уровнем ЗП 100500 может сильно испортить статистику.\n",
    "\n",
    "Функция \"**fill_days_employed**\" заполняет пропещенные значения количества отработанных дней. На вход подается DataFrame, список по типу образования и список по категориям возраста. Список по типу образования позволяет отсеить тех, кто учился дольше. Внутри этого списка данные разбиваются по возрастным категориям и среди них ищется среднее значение. В данной выборке среднее значение можно брать, так как точно не будет тех, кому больше 100 лет :)\n",
    "\n",
    "Проверяем наличие пропусков - вуаля. \n",
    "\n",
    "В рамках этого задания найдено непонятное значение XNA в столбце с полом. Заменено на \"F\", так как девочек больше.\n",
    "\n",
    "В рамках этого задания найдены непонятные числа в столбце \"children\". \"-1\" похоже на системную ошибку, а 20 на человеческую. Системную ошику заменили на 0, а 20 на 2 (дюди могли нажимать \"0\" по ошибке).\n",
    "\n",
    "Все заполнено."
   ]
  },
  {
   "cell_type": "markdown",
   "metadata": {},
   "source": [
    "<font color='blue'> Очень подробная работа, хотя она слегка излишня. Здесь достаточно было посмотреть, чем заполнять пропуски - 0, медианы или среднии или еще что и обмотивировать свой выбор.</font><br>\n",
    "<font color='green'>Данную часть решил оставить без изменений</font>"
   ]
  },
  {
   "cell_type": "markdown",
   "metadata": {},
   "source": [
    "### Замена типа данных"
   ]
  },
  {
   "cell_type": "code",
   "execution_count": 57,
   "metadata": {},
   "outputs": [
    {
     "name": "stdout",
     "output_type": "stream",
     "text": [
      "\n",
      "Заменяем тип данных в столбцах: \"days_employed\", \"total_income\"\n",
      "\n",
      "Округляем ЗП до копеек\n",
      "\n",
      "Проверяем информацию: \n",
      "<class 'pandas.core.frame.DataFrame'>\n",
      "RangeIndex: 21525 entries, 0 to 21524\n",
      "Data columns (total 13 columns):\n",
      "children            21525 non-null int64\n",
      "days_employed       21525 non-null int64\n",
      "dob_years           21525 non-null int64\n",
      "education           21525 non-null object\n",
      "education_id        21525 non-null int64\n",
      "family_status       21525 non-null object\n",
      "family_status_id    21525 non-null int64\n",
      "gender              21525 non-null object\n",
      "income_type         21525 non-null object\n",
      "debt                21525 non-null int64\n",
      "total_income        21525 non-null int64\n",
      "purpose             21525 non-null object\n",
      "age_type            21525 non-null object\n",
      "dtypes: int64(7), object(6)\n",
      "memory usage: 2.1+ MB\n",
      "None\n"
     ]
    }
   ],
   "source": [
    "print (\"\\nЗаменяем тип данных в столбцах: \\\"days_employed\\\", \\\"total_income\\\"\")\n",
    "df['days_employed'] = df['days_employed'].astype(int)\n",
    "print (\"\\nОкругляем ЗП до копеек\")\n",
    "df['total_income'] = df['total_income'].astype(int)\n",
    "print (\"\\nПроверяем информацию: \")\n",
    "print (df.info())\n"
   ]
  },
  {
   "cell_type": "markdown",
   "metadata": {},
   "source": [
    "### Вывод"
   ]
  },
  {
   "cell_type": "markdown",
   "metadata": {},
   "source": [
    "В столбцах \"days_employed\" и \"total_income\" меняем тип данных с float64 на int64. Человек не может быть устроен пол дня с четвертинкой, а ЗП можно спокойно округлять до целых чисел - в дальнейшем сравнении и категоризации копейки ни на чтоне повлияют.\n",
    "Замена типа данных проводится методом \"**astype**\", которому передается значение нового типа данных."
   ]
  },
  {
   "cell_type": "markdown",
   "metadata": {},
   "source": [
    "<font color='blue'> Здесь подразумевается только использование astype(). Вся остольная работа излишняя и л должна быть выполнена далее, например, введение словарей - это категоризация. Так читать проект очень сложно, хотя работа выглядит очень масштабно. </font><br><font color=\"green\">Исправлено</font>"
   ]
  },
  {
   "cell_type": "markdown",
   "metadata": {},
   "source": [
    "### Обработка дубликатов"
   ]
  },
  {
   "cell_type": "code",
   "execution_count": 58,
   "metadata": {},
   "outputs": [
    {
     "name": "stdout",
     "output_type": "stream",
     "text": [
      "\n",
      "Ищем дубли среди данных: \n",
      "False    21454\n",
      "True        71\n",
      "dtype: int64\n",
      "\n",
      "Просматриваем дубли: \n",
      "      children  days_employed  dob_years education  education_id  \\\n",
      "2849         0         366103         41   среднее             1   \n",
      "3290         0         364968         58   среднее             1   \n",
      "4182         1         367716         34    высшее             0   \n",
      "4851         0         364968         60   среднее             1   \n",
      "5557         0         364968         58   среднее             1   \n",
      "\n",
      "         family_status  family_status_id gender income_type  debt  \\\n",
      "2849   женат / замужем                 0      F   сотрудник     0   \n",
      "3290  гражданский брак                 1      F   пенсионер     0   \n",
      "4182  гражданский брак                 1      F   сотрудник     0   \n",
      "4851  гражданский брак                 1      F   пенсионер     0   \n",
      "5557  гражданский брак                 1      F   пенсионер     0   \n",
      "\n",
      "      total_income                  purpose    age_type  \n",
      "2849        144730  покупка жилья для семьи    работяги  \n",
      "3290        117497          сыграть свадьбу  пенсионеры  \n",
      "4182        144730                  свадьба    работяги  \n",
      "4851        117497                  свадьба  пенсионеры  \n",
      "5557        117497          сыграть свадьбу  пенсионеры  \n",
      "\n",
      "Удаляем дубликаты\n",
      "\n",
      "Проверяем, что дубликаты удалились: \n",
      "False    21454\n",
      "dtype: int64\n"
     ]
    }
   ],
   "source": [
    "print (\"\\nИщем дубли среди данных: \")\n",
    "print (df.duplicated().value_counts())\n",
    "\n",
    "print (\"\\nПросматриваем дубли: \")\n",
    "print (df[df.duplicated()].head())\n",
    "\n",
    "print (\"\\nУдаляем дубликаты\")\n",
    "df = df.drop_duplicates().reset_index(drop=True)\n",
    "\n",
    "print (\"\\nПроверяем, что дубликаты удалились: \")\n",
    "print (df.duplicated().value_counts())"
   ]
  },
  {
   "cell_type": "markdown",
   "metadata": {},
   "source": [
    "### Вывод"
   ]
  },
  {
   "cell_type": "markdown",
   "metadata": {},
   "source": [
    "Ищем дубли стандартным методом библиотеки \"Pandas\" \"duplicated()\" и подсчитываем уникальные значение методом \"value_counts()\". Как видно у нас 71 дубль - это значение, которым соответствует запись \"True\".\n",
    "\n",
    "Просмотрим дубликаты - действительно, видно, что записи повторяются. Пример: строки с индексом **3290** и **5557**.\n",
    "\n",
    "Дублей не много, можем смело их удалить методом \"drop_duplicates\" и пересборкой индекса методом \"reset_index(drop=True)\".\n",
    "\n",
    "Проверяем наличи дублей теми же методами - записи \"Ttrue\" для метода поиска дублей нет, т.е. дублей 0."
   ]
  },
  {
   "cell_type": "markdown",
   "metadata": {},
   "source": [
    "<font color='blue'> Так не понятно, что с дубликатами? Их 21525? Если этот метод не подходит, то какой подходит? Здесь надо вывести количество дубликатов, удалить дубликаты и вывести новое количество дубликатов, которое должно стать равно 0.</font><br><font color='green'>Исправлено</font>"
   ]
  },
  {
   "cell_type": "markdown",
   "metadata": {},
   "source": [
    "### Лемматизация"
   ]
  },
  {
   "cell_type": "code",
   "execution_count": 59,
   "metadata": {},
   "outputs": [
    {
     "name": "stdout",
     "output_type": "stream",
     "text": [
      "[(' ', 59), (',', 37), ('недвижимость', 10), ('покупка', 10), ('автомобиль', 9), ('образование', 9), ('жилье', 7), ('с', 5), ('на', 4), ('операция', 4), ('свой', 4), ('свадьба', 3), ('строительство', 3), ('высокий', 3), ('получение', 3), ('коммерческий', 2), ('для', 2), ('жилой', 2), ('заниматься', 2), ('сделка', 2), ('дополнительный', 2), ('проведение', 1), ('сыграть', 1), ('сдача', 1), ('семья', 1), ('собственный', 1), ('со', 1), ('ремонт', 1), ('подержанный', 1), ('подержать', 1), ('приобретение', 1), ('профильный', 1), ('\\n', 1)]\n"
     ]
    }
   ],
   "source": [
    "from pymystem3 import Mystem\n",
    "from collections import Counter\n",
    "m = Mystem()\n",
    "\n",
    "purposes = df['purpose'].value_counts().index.tolist()\n",
    "lem = m.lemmatize(','.join(purposes))\n",
    "lem = Counter(lem).most_common()\n",
    "print (lem)"
   ]
  },
  {
   "cell_type": "markdown",
   "metadata": {},
   "source": [
    "### Вывод"
   ]
  },
  {
   "cell_type": "markdown",
   "metadata": {},
   "source": [
    "Выше выедены наиболее часто используемые леммы слов в графе \"Цель кредита\". Большинство вариантов связаны со следующими категориями:\n",
    "\n",
    "- Недвижимость: [недвижимость, жилье, строительство, сделка, жилой, сдача, недвижимость, коммерческий, жилой]\n",
    "- Авто: [автомобиль, подержанный, сдача]\n",
    "- Свадьба: [свадьба, семья, сыграть]\n",
    "- Образование: [образование]"
   ]
  },
  {
   "cell_type": "markdown",
   "metadata": {},
   "source": [
    "<font color='blue'> Лемматизация выполнена хорошо - это самая сложная часть проекта.</font>"
   ]
  },
  {
   "cell_type": "markdown",
   "metadata": {},
   "source": [
    "### Категоризация данных"
   ]
  },
  {
   "cell_type": "code",
   "execution_count": 60,
   "metadata": {},
   "outputs": [
    {
     "name": "stdout",
     "output_type": "stream",
     "text": [
      "\n",
      "Создаем словари для замены одинаковых значений в строках\n",
      "\n",
      "15:49:58 Начало добавления столбцов по словарям... (процесс может выполняться минуту)\n",
      "\n",
      "15:50:16 Обработан словарь \"Тип занятости\"\n",
      "\n",
      "15:50:37 Обработан словарь \"Тип возраста\"\n",
      "\n",
      "15:50:55 Обработан словарь \"Уровень образования\"\n",
      "\n",
      "15:51:14 Обработан словарь \"Семейный статус\"\n",
      "\n",
      "15:51:32 Обработан словарь \"Пол\"\n",
      "\n",
      "Добавлены значения словаря \"Цель кредита\"\n",
      "\n",
      "15:51:32 Столбцы по словарям добавлены\n",
      "\n",
      "Удалены столбцы со строковыми значениями\n",
      "<class 'pandas.core.frame.DataFrame'>\n",
      "RangeIndex: 21454 entries, 0 to 21453\n",
      "Data columns (total 13 columns):\n",
      "children              21454 non-null int64\n",
      "days_employed         21454 non-null int64\n",
      "dob_years             21454 non-null int64\n",
      "education_id          21454 non-null int64\n",
      "family_status_id      21454 non-null int64\n",
      "debt                  21454 non-null int64\n",
      "total_income          21454 non-null int64\n",
      "income_type_idx       21454 non-null int64\n",
      "age_type_idx          21454 non-null int64\n",
      "education_type_idx    21454 non-null int64\n",
      "family_status_idx     21454 non-null int64\n",
      "gender_type_idx       21454 non-null int64\n",
      "purpose_type_idx      21454 non-null int64\n",
      "dtypes: int64(13)\n",
      "memory usage: 2.1 MB\n",
      "None\n",
      "\n",
      "Распределяем всех по уровню дохода на 5 квантилей\n",
      "\n",
      "Сортируем всех по уровню дохода. Самые богатые внизу таблицы.\n",
      "\n",
      "Смотрим среднее значение по каждому квантилю: \n",
      "income_level_idx\n",
      "0    306216.133595\n",
      "1    183048.758411\n",
      "2    145213.696028\n",
      "3    115194.541121\n",
      "4     75362.099065\n",
      "Name: total_income, dtype: float64\n"
     ]
    }
   ],
   "source": [
    "print (\"\\nСоздаем словари для замены одинаковых значений в строках\")\n",
    "family_status_list  = df['family_status'].value_counts().index.tolist()\n",
    "gender_type_list    = df['gender'].value_counts().index.tolist()\n",
    "purpose_type_list   = ['свадьба', 'авто', 'недвижимость', 'образование']\n",
    "\n",
    "age_type_dict       = pd.DataFrame(age_type_list, columns=['age_type'])\n",
    "income_type_dict    = pd.DataFrame(income_type_list, columns=['income_type'])\n",
    "education_type_dict = pd.DataFrame(education_type_list, columns=['education_type'])\n",
    "family_status_dict  = pd.DataFrame(family_status_list, columns=['family_status'])\n",
    "gender_type_dict    = pd.DataFrame(gender_type_list, columns=['gender_type'])\n",
    "purpose_type_dict   = pd.DataFrame(purpose_type_list, columns=['purpose_type'])\n",
    "\n",
    "def get_dict_idx(value, current_df, column):\n",
    "    \"\"\"Выборка индекса словаря по значению поля\"\"\"\n",
    "    return current_df[current_df[column] == value].index.values.astype(int)[0]\n",
    "\n",
    "print (f\"\\n{datetime.now().strftime('%H:%M:%S')} Начало добавления столбцов по словарям... (процесс может выполняться минуту)\")\n",
    "df['income_type_idx'] = df['income_type'].apply(get_dict_idx, current_df=income_type_dict, column='income_type')\n",
    "print (f\"\\n{datetime.now().strftime('%H:%M:%S')} Обработан словарь \\\"Тип занятости\\\"\")\n",
    "\n",
    "df['age_type_idx'] = df['age_type'].apply(get_dict_idx, current_df=age_type_dict, column='age_type')\n",
    "print (f\"\\n{datetime.now().strftime('%H:%M:%S')} Обработан словарь \\\"Тип возраста\\\"\")\n",
    "\n",
    "df['education_type_idx'] = df['education'].apply(get_dict_idx, current_df=education_type_dict, column='education_type')\n",
    "print (f\"\\n{datetime.now().strftime('%H:%M:%S')} Обработан словарь \\\"Уровень образования\\\"\")\n",
    "\n",
    "df['family_status_idx']  = df['family_status'].apply(get_dict_idx, current_df=family_status_dict, column='family_status')\n",
    "print (f\"\\n{datetime.now().strftime('%H:%M:%S')} Обработан словарь \\\"Семейный статус\\\"\")\n",
    "\n",
    "df['gender_type_idx'] = df['gender'].apply(get_dict_idx, current_df=gender_type_dict, column='gender_type')\n",
    "print (f\"\\n{datetime.now().strftime('%H:%M:%S')} Обработан словарь \\\"Пол\\\"\")\n",
    "\n",
    "df.loc[df['purpose'].str.contains('свадьб') | df['purpose'].str.contains('семь') | df['purpose'].str.contains('сыграть'), 'purpose_type_idx'] = 0\n",
    "df.loc[df['purpose'].str.contains('автомобил') | df['purpose'].str.contains('подержа'), 'purpose_type_idx'] = 1\n",
    "df.loc[df['purpose'].str.contains('недвижим') | df['purpose'].str.contains('жил') | df['purpose'].str.contains('строит') | df['purpose'].str.contains('коммерч'), 'purpose_type_idx'] = 2\n",
    "df.loc[df['purpose'].str.contains('образован'), 'purpose_type_idx'] = 3\n",
    "df['purpose_type_idx'] = df['purpose_type_idx'].astype(int)\n",
    "print (\"\\nДобавлены значения словаря \\\"Цель кредита\\\"\")\n",
    "       \n",
    "df.drop(columns=['income_type', 'age_type', 'education', 'family_status', 'gender', 'purpose'], inplace=True)\n",
    "print (f\"\\n{datetime.now().strftime('%H:%M:%S')} Столбцы по словарям добавлены\")\n",
    "print (\"\\nУдалены столбцы со строковыми значениями\")\n",
    "print (df.info())\n",
    "       \n",
    "print (\"\\nРаспределяем всех по уровню дохода на 5 квантилей\")       \n",
    "income_level_list = ['Верхний', 'Четвертый', 'Средний', 'Второй', 'Нижний']\n",
    "income_level_dict = pd.DataFrame(income_level_list, columns=['income_level'])\n",
    "       \n",
    "one_percent = int (df.shape[0] / 100)\n",
    "level1 = int (one_percent * 80)\n",
    "level2 = int (level1 - (one_percent * 20))\n",
    "level3 = int (level2 - (one_percent * 20))\n",
    "level4 = int (level3 - (one_percent * 20))\n",
    "\n",
    "print (\"\\nСортируем всех по уровню дохода. Самые богатые внизу таблицы.\")\n",
    "df.sort_values(\"total_income\", inplace=True)\n",
    "df.reset_index(drop=True, inplace=True)\n",
    "\n",
    "df['income_level_idx'] = 0\n",
    "df.iloc[0:level4, df.columns.get_loc('income_level_idx')] = 4\n",
    "df.iloc[level4:level3, df.columns.get_loc('income_level_idx')] = 3\n",
    "df.iloc[level3:level2, df.columns.get_loc('income_level_idx')] = 2\n",
    "df.iloc[level2:level1, df.columns.get_loc('income_level_idx')] = 1\n",
    "print (\"\\nСмотрим среднее значение по каждому квантилю: \")\n",
    "print (df.groupby('income_level_idx')['total_income'].mean())\n"
   ]
  },
  {
   "cell_type": "markdown",
   "metadata": {},
   "source": [
    "### Вывод"
   ]
  },
  {
   "cell_type": "markdown",
   "metadata": {},
   "source": [
    "Добавили всевозможные категории и словари по этим категориям.\n",
    "Список категорий:\n",
    "\n",
    "- Тип занятости\n",
    "  - сотрудник\n",
    "  - компаньон\n",
    "  - пенсионер\n",
    "  - госслужащий\n",
    "- Тип возраста\n",
    "  - молодежь\n",
    "  - работяги\n",
    "  - пенсионеры\n",
    "- Уровень образования\n",
    "  - среднее\n",
    "  - высшее\n",
    "  - неоконченное высшее\n",
    "  - начальное\n",
    "  - ученая степень \n",
    "- Семейный статус\n",
    "  - женат / замужем\n",
    "  - гражданский брак\n",
    "  - Не женат / не замужем\n",
    "  - в разводе\n",
    "  - вдовец / вдова\n",
    "- Пол\n",
    "  - F\n",
    "  - M\n",
    "- Цель кредита\n",
    "  - Недвижимость\n",
    "  - Авто\n",
    "  - Образование\n",
    "  - Свадьба\n",
    "  \n",
    "В процессе выделения категорий и разбития на словари избавились от всех строковых столбцов в датасете.\n",
    "Сделана категоризация по уровню дохода. Все уровни разбиты на 5 стандратных квантилей - т.е. все отсортированы в порядке возрастания ЗП, и общее количество поровну разделено на 5 частей. head() - бедные, tail() - богатые. <br>\n",
    "--- P.S. Понятие \"Квантиль\" нагуглено на [этом сайте](https://economics.studio/ekonomicheskaya-teoriya/kolichestvennoe-opredelenie-neravenstva-86651.html) ---"
   ]
  },
  {
   "cell_type": "markdown",
   "metadata": {},
   "source": [
    "<font color='blue'> Технически категоризация выполнена хорошо. Однако:</font>\n",
    "\n",
    "<font color='blue'> 1. не очень понятен выбор уровней отсечения для дохода, это лучше пояснять, обычно берут квантили. </font>\n",
    "\n",
    "<font color='blue'> 2. делать категоризацию имеет смысл только для дохода и для целей кредита. Для других параметров нет смысла делать категории - это ограничивает данные. Например, ты хочешь посмотреть данные для 2 или 3 детей, возможно, там есть разница, а этих данных уже нет, они слиты в \"дети есть\" </font>\n",
    "\n",
    "<font color='blue'> 3. для характеристик типа образование, семейное положение и.т.п - следует вводить словари, т.е. в датасэте оставить только коды, а описательную часть вынести в отдельные таблицы. Это сократить датасэт и упростит работу с ним. </font>\n",
    "\n",
    "<font color='green'>Исправлено</font>"
   ]
  },
  {
   "cell_type": "markdown",
   "metadata": {},
   "source": [
    "### Шаг 3. Ответьте на вопросы"
   ]
  },
  {
   "cell_type": "markdown",
   "metadata": {},
   "source": [
    "- Есть ли зависимость между наличием детей и возвратом кредита в срок?"
   ]
  },
  {
   "cell_type": "code",
   "execution_count": 94,
   "metadata": {},
   "outputs": [
    {
     "name": "stdout",
     "output_type": "stream",
     "text": [
      "\n",
      "Проверяем зависимость наличия детей и кредитной истории: \n",
      "\n",
      "debt      Не_имел_задолженности  Имел_задолженность Процент_должников\n",
      "children                                                             \n",
      "0                       13074.0              1064.0             7.53%\n",
      "1                        4364.0               444.0             9.23%\n",
      "2                        1926.0               202.0             9.49%\n",
      "3                         303.0                27.0             8.18%\n",
      "4                          37.0                 4.0             9.76%\n",
      "5                           9.0                 NaN              nan%\n"
     ]
    }
   ],
   "source": [
    "def get_percentage(row):\n",
    "    percent = f\"{(row[1] * 100 / (row[0] + row[1])):.2f}%\"\n",
    "    return (percent)\n",
    "\n",
    "print (\"\\nПроверяем зависимость наличия детей и кредитной истории: \\n\")\n",
    "pivot_table = df.pivot_table(index=['children'], columns='debt', values='total_income', aggfunc='count')\n",
    "pivot_table.rename(columns={0:'Не_имел_задолженности',1:'Имел_задолженность'}, inplace=True)\n",
    "pivot_table['Процент_должников'] = pivot_table.apply(get_percentage, axis=1)\n",
    "print (pivot_table)\n",
    "\n",
    "children_min_percent = 7.53\n",
    "children_max_percent = 9.76\n"
   ]
  },
  {
   "cell_type": "markdown",
   "metadata": {},
   "source": [
    "### Вывод"
   ]
  },
  {
   "cell_type": "markdown",
   "metadata": {},
   "source": [
    "Согласно вышеприведенным данным, процент должников среди бездетных клиентов намного ниже, чем у клиентов с детьми. Причем, не важно, детей много или мало - процент должников везде одинаковый.\n",
    "\n",
    "#### Итог:\n",
    "\n",
    "У бездетных семей шанс вернуть кредит в срок выше, чем у многодетных."
   ]
  },
  {
   "cell_type": "markdown",
   "metadata": {},
   "source": [
    "- Влияет ли семейное положение на возврат кредита в срок?"
   ]
  },
  {
   "cell_type": "code",
   "execution_count": 87,
   "metadata": {},
   "outputs": [
    {
     "name": "stdout",
     "output_type": "stream",
     "text": [
      "debt                   Не_имел_задолженности  Имел_задолженность  \\\n",
      "family_status_id                                                   \n",
      "женат / замужем                        11408                 931   \n",
      "гражданский брак                        3763                 388   \n",
      "Не женат / не замужем                    896                  63   \n",
      "в разводе                               1110                  85   \n",
      "вдовец / вдова                          2536                 274   \n",
      "\n",
      "debt                  Процент_должников  \n",
      "family_status_id                         \n",
      "женат / замужем                   7.55%  \n",
      "гражданский брак                  9.35%  \n",
      "Не женат / не замужем             6.57%  \n",
      "в разводе                         7.11%  \n",
      "вдовец / вдова                    9.75%  \n"
     ]
    }
   ],
   "source": [
    "pivot_table = df.pivot_table(index=['family_status_id'], columns='debt', values='total_income', aggfunc='count').astype(int)\n",
    "pivot_table.rename(columns={0:'Не_имел_задолженности',1:'Имел_задолженность'}, index=family_status_dict['family_status'], inplace=True)\n",
    "pivot_table['Процент_должников'] = pivot_table.apply(get_percentage, axis=1)\n",
    "print (pivot_table)\n",
    "\n",
    "family_min_percent = 6.57\n",
    "family_max_percent = 9.75\n"
   ]
  },
  {
   "cell_type": "markdown",
   "metadata": {},
   "source": [
    "### Вывод"
   ]
  },
  {
   "cell_type": "markdown",
   "metadata": {},
   "source": [
    "Минимальный процент должников у людей не связанных узами брака.\n",
    "Максимальный процент должников среди вдовцов (у них горе, какой там кредит)."
   ]
  },
  {
   "cell_type": "markdown",
   "metadata": {},
   "source": [
    "- Есть ли зависимость между уровнем дохода и возвратом кредита в срок?"
   ]
  },
  {
   "cell_type": "code",
   "execution_count": 88,
   "metadata": {},
   "outputs": [
    {
     "name": "stdout",
     "output_type": "stream",
     "text": [
      "debt              Не_имел_задолженности  Имел_задолженность Процент_должников\n",
      "income_level_idx                                                             \n",
      "Верхний                            4028                 306             7.06%\n",
      "Четвертый                          3926                 354             8.27%\n",
      "Средний                            3901                 379             8.86%\n",
      "Второй                             3921                 359             8.39%\n",
      "Нижний                             3937                 343             8.01%\n"
     ]
    }
   ],
   "source": [
    "pivot_table = df.pivot_table(index=['income_level_idx'], columns='debt', values='total_income', aggfunc='count').astype(int)\n",
    "pivot_table.rename(columns={0:'Не_имел_задолженности',1:'Имел_задолженность'}, index=income_level_dict['income_level'], inplace=True)\n",
    "\n",
    "pivot_table['Процент_должников'] = pivot_table.apply(get_percentage, axis=1)\n",
    "print (pivot_table)\n",
    "\n",
    "income_min_percent = 7.06\n",
    "income_max_percent = 8.86"
   ]
  },
  {
   "cell_type": "markdown",
   "metadata": {},
   "source": [
    "### Вывод"
   ]
  },
  {
   "cell_type": "markdown",
   "metadata": {},
   "source": [
    "Безусловно, у категории людей с высоким заработком самый низкий процент задолженности.\n",
    "\n",
    "Самый низкий процент должников: Верхний квантиль.\n",
    "Самый высокий процент должников: Средний квантиль.\n",
    "\n",
    "Интеерсно, что люди с самым низким уровнем дохода (Нижний квантиль) бывают должны банку не так часто, как другие квантили.\n",
    "Вероятно, на возврат кредита в срок влияет не только уровень заработка."
   ]
  },
  {
   "cell_type": "markdown",
   "metadata": {},
   "source": [
    "- Как разные цели кредита влияют на его возврат в срок?"
   ]
  },
  {
   "cell_type": "code",
   "execution_count": 89,
   "metadata": {},
   "outputs": [
    {
     "name": "stdout",
     "output_type": "stream",
     "text": [
      "debt              Не_имел_задолженности  Имел_задолженность Процент_должников\n",
      "purpose_type_idx                                                             \n",
      "свадьба                            2138                 186             8.00%\n",
      "авто                               3903                 403             9.36%\n",
      "недвижимость                      10029                 782             7.23%\n",
      "образование                        3643                 370             9.22%\n"
     ]
    }
   ],
   "source": [
    "pivot_table = df.pivot_table(index=['purpose_type_idx'], columns='debt', values='total_income', aggfunc='count').astype(int)\n",
    "pivot_table.rename(columns={0:'Не_имел_задолженности',1:'Имел_задолженность'}, index=purpose_type_dict['purpose_type'], inplace=True)\n",
    "\n",
    "pivot_table['Процент_должников'] = pivot_table.apply(get_percentage, axis=1)\n",
    "print (pivot_table)\n",
    "\n",
    "purpose_min_percent = 7.23\n",
    "purpose_max_percent = 9.36"
   ]
  },
  {
   "cell_type": "markdown",
   "metadata": {},
   "source": [
    "### Вывод"
   ]
  },
  {
   "cell_type": "markdown",
   "metadata": {},
   "source": [
    "Меньше всего должников среди тех, кто берет ипотеку на жилье. И дейстительно, если вы решили взять ипотеку, то, наверняка, подготовили стратегию возврата, разные варианты финансовых подушек6 либо, просто настроены пахать как кролик, чтобы купить уже эту квартирку.\n",
    "\n",
    "Другой случай с кредитами на авто и образование - там сумму довольно небольшие, в сравнении с ипотекой на жилье, поэтому, о таком кредите легче забыть, можно пару раз не платить, чтобы потом одним платежом закрыть, либо сначала заработать денег с помощью авто или мозгов, и потом уже отдавать этим ваши кредиты."
   ]
  },
  {
   "cell_type": "markdown",
   "metadata": {},
   "source": [
    "<font color='blue'> Отличный выводы, только не хватает цифр, процентов - это главная задача аналитика</font><br>\n",
    "<font color='green'>В каждую таблицу добавлены проценты для наглядного сравнения</font>"
   ]
  },
  {
   "cell_type": "markdown",
   "metadata": {},
   "source": [
    "### Шаг 4. Общий вывод"
   ]
  },
  {
   "cell_type": "markdown",
   "metadata": {},
   "source": [
    "## Влияет ли семейное положение и наличие детей на возврат кредита в срок?\n",
    "\n",
    "### Да, вляет.\n",
    "\n",
    "В данной работе были произведены следующие работы:\n",
    "- Изучение данных\n",
    "- Первичная обработка данных\n",
    "- Категоризация данных\n",
    "- Были видвинуты гипотезы по возможным пропускам и некорректным данным\n",
    "- Были даны ответы на вопросы касательно способности вовремя возвращать кредит у разных категорий людей.\n",
    "\n",
    "#### По результатам исследоватльского анализа, выявлена следующая закономерность:\n",
    "\n",
    "- Лучше всего возвращают кредит\n",
    "  - Не женатые\n",
    "  - Бездетные\n",
    "  - С высоким уровнем заработка\n",
    "  - Берущие кредит на недвижимость\n",
    "  \n",
    "- Хуже всего возвращают кредит:\n",
    "  - Вдовцы\n",
    "  - Многодетные\n",
    "  - Со средним уровнем заработка\n",
    "  - Берущие кредит на образование или авто\n",
    "  \n",
    "Визуальное представление ниже:"
   ]
  },
  {
   "cell_type": "code",
   "execution_count": 110,
   "metadata": {},
   "outputs": [
    {
     "name": "stdout",
     "output_type": "stream",
     "text": [
      "Процент должников среди выделенных категорий. Максимальный и минимальный проценты.\n",
      "\n",
      "По семейному статусу:\n",
      "Не женатые: 7.53%\n",
      "Вдовцы:     9.76%\n",
      "\n",
      "По наличию детей:\n",
      "Бездетные:   6.57%\n",
      "Многодетные: 9.75%\n",
      "\n",
      "По уровню заработка:\n",
      "Высокий уровень заработка: 7.06%\n",
      "Средний уровень заработка: 8.86%\n",
      "\n",
      "По целяем кредита:\n",
      "Кредит на недвижимость:       7.23%\n",
      "Кредит на образование или авто: 9.36%\n"
     ]
    }
   ],
   "source": [
    "print (\"Процент должников среди выделенных категорий. Максимальный и минимальный проценты.\")\n",
    "print (f\"\\nПо семейному статусу:\\nНе женатые: {children_min_percent:}%\\nВдовцы:     {children_max_percent}%\")\n",
    "print (f\"\\nПо наличию детей:\\nБездетные:   {family_min_percent:}%\\nМногодетные: {family_max_percent}%\")\n",
    "print (f\"\\nПо уровню заработка:\\nВысокий уровень заработка: {income_min_percent:}%\\nСредний уровень заработка: {income_max_percent}%\")\n",
    "print (f\"\\nПо целяем кредита:\\nКредит на недвижимость:       {purpose_min_percent:}%\\nКредит на образование или авто: {purpose_max_percent}%\")\n"
   ]
  },
  {
   "cell_type": "markdown",
   "metadata": {},
   "source": [
    "<font color='blue'> В общих выводах лучше в кратце описать весь проект. В итогах тоже можно привести цифры, все-таки это выглядело бы удобнее для заказчика -- вдруг он сразу решит прочитать только итог, не читая предыдущих рассуждений?) </font><br>\n",
    "<font color='green'>Исправлено</font>"
   ]
  },
  {
   "cell_type": "markdown",
   "metadata": {},
   "source": [
    "### Чек-лист готовности проекта\n",
    "\n",
    "Поставьте 'x' в выполненных пунктах. Далее нажмите Shift+Enter."
   ]
  },
  {
   "cell_type": "markdown",
   "metadata": {},
   "source": [
    "- [x]  открыт файл;\n",
    "- [x]  файл изучен;\n",
    "- [x]  определены пропущенные значения;\n",
    "- [x]  заполнены пропущенные значения;\n",
    "- [x]  есть пояснение какие пропущенные значения обнаружены;\n",
    "- [x]  описаны возможные причины появления пропусков в данных;\n",
    "- [x]  объяснено по какому принципу заполнены пропуски;\n",
    "- [x]  заменен вещественный тип данных на целочисленный;\n",
    "- [x]  есть пояснение какой метод используется для изменения типа данных и почему;\n",
    "- [ ]  удалены дубликаты;\n",
    "- [x]  есть пояснение какой метод используется для поиска и удаления дубликатов;\n",
    "- [x]  описаны возможные причины появления дубликатов в данных;\n",
    "- [x]  выделены леммы в значениях столбца с целями получения кредита;\n",
    "- [x]  описан процесс лемматизации;\n",
    "- [x]  данные категоризированы;\n",
    "- [x]  есть объяснение принципа категоризации данных;\n",
    "- [x]  есть ответ на вопрос \"Есть ли зависимость между наличием детей и возвратом кредита в срок?\";\n",
    "- [x]  есть ответ на вопрос \"Есть ли зависимость между семейным положением и возвратом кредита в срок?\";\n",
    "- [x]  есть ответ на вопрос \"Есть ли зависимость между уровнем дохода и возвратом кредита в срок?\";\n",
    "- [x]  есть ответ на вопрос \"Как разные цели кредита влияют на его возврат в срок?\";\n",
    "- [x]  в каждом этапе есть выводы;\n",
    "- [x]  есть общий вывод."
   ]
  },
  {
   "cell_type": "markdown",
   "metadata": {},
   "source": [
    "<font color='blue'> В итоге, ты проделал хорошую работу. Постарайся доразобраться с работой с дубликатами. Также в первых двух частях проекта можно подсократить, оставить только нужное согласно заголовку раздела. </font><br>\n",
    "<font color='green'>Спасибо за замечания. Исправлено максимально все возможное :)</font>"
   ]
  },
  {
   "cell_type": "markdown",
   "metadata": {},
   "source": [
    "<font color='red'>Отлично, получилась прекрасная работа. Удачи в следующих проектах:)</font>"
   ]
  },
  {
   "cell_type": "code",
   "execution_count": null,
   "metadata": {},
   "outputs": [],
   "source": []
  }
 ],
 "metadata": {
  "kernelspec": {
   "display_name": "Python 3",
   "language": "python",
   "name": "python3"
  },
  "language_info": {
   "codemirror_mode": {
    "name": "ipython",
    "version": 3
   },
   "file_extension": ".py",
   "mimetype": "text/x-python",
   "name": "python",
   "nbconvert_exporter": "python",
   "pygments_lexer": "ipython3",
   "version": "3.7.3"
  }
 },
 "nbformat": 4,
 "nbformat_minor": 2
}
